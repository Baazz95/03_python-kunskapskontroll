{
 "cells": [
  {
   "cell_type": "code",
   "execution_count": 10,
   "id": "2c3ffc80-72c9-4375-bdaa-50ec842d1f28",
   "metadata": {},
   "outputs": [],
   "source": [
    "import numpy as np"
   ]
  },
  {
   "cell_type": "code",
   "execution_count": 12,
   "id": "1a7ccc84-97a4-4e52-921f-3f5ea9d76677",
   "metadata": {},
   "outputs": [
    {
     "name": "stdout",
     "output_type": "stream",
     "text": [
      "2\n",
      "\n",
      "(3, 5)\n",
      "\n",
      "15\n",
      "\n",
      "<class 'numpy.ndarray'>\n",
      "\n",
      "[[ 1  2  3  4  5]\n",
      " [ 6  7  8  9 10]\n",
      " [11 12 13 14 15]]\n"
     ]
    }
   ],
   "source": [
    "#Code for Q1 Numpy defining matrix.\n",
    "\n",
    "A= np.arange(1, 16).reshape(3, 5)\n",
    "\n",
    "#Print out dimension, shape, size and datatype \n",
    "\n",
    "#dimension:\n",
    "\n",
    "print(A.ndim)\n",
    "print()\n",
    "\n",
    "#shape:\n",
    "\n",
    "print(A.shape)\n",
    "print()\n",
    "\n",
    "#size:\n",
    "\n",
    "print(A.size)\n",
    "print()\n",
    "\n",
    "#datatype:\n",
    "\n",
    "print(type(A))\n",
    "print()\n",
    "\n",
    "#raw output\n",
    "\n",
    "print(A)"
   ]
  },
  {
   "cell_type": "code",
   "execution_count": 14,
   "id": "2413ba24-09b0-47b4-9de2-e76cf5b13c2a",
   "metadata": {},
   "outputs": [
    {
     "name": "stdout",
     "output_type": "stream",
     "text": [
      "[[1 2 3]\n",
      " [4 5 6]\n",
      " [7 8 9]]\n",
      "\n",
      "[[2. 2. 2.]\n",
      " [2. 2. 2.]\n",
      " [2. 2. 2.]]\n"
     ]
    }
   ],
   "source": [
    "#Question 2 code\n",
    "\n",
    "B = np.arange(1, 10).reshape(3, 3)\n",
    "C = np.ones((3, 3)) * 2\n",
    "\n",
    "print(B)\n",
    "print()\n",
    "print(C)\n"
   ]
  },
  {
   "cell_type": "code",
   "execution_count": 16,
   "id": "42813a68-ccd9-4ce5-9217-9e7092b1730d",
   "metadata": {},
   "outputs": [
    {
     "name": "stdout",
     "output_type": "stream",
     "text": [
      "[[-1.  0.  1.]\n",
      " [ 2.  3.  4.]\n",
      " [ 5.  6.  7.]]\n",
      "\n",
      "[[ 2.  4.  6.]\n",
      " [ 8. 10. 12.]\n",
      " [14. 16. 18.]]\n",
      "\n",
      "[[12. 12. 12.]\n",
      " [30. 30. 30.]\n",
      " [48. 48. 48.]]\n"
     ]
    }
   ],
   "source": [
    "#Elementwise subtraction\n",
    "\n",
    "subtract = np.subtract(B, C)\n",
    "\n",
    "print(subtract)\n",
    "print()\n",
    "\n",
    "#Elementwise multiplication\n",
    "\n",
    "multiply = np.multiply(B, C)\n",
    "\n",
    "print(multiply)\n",
    "print()\n",
    "\n",
    "#Matrix multiplication\n",
    "\n",
    "matmul = B @ C\n",
    "\n",
    "print(matmul)"
   ]
  },
  {
   "cell_type": "code",
   "execution_count": 18,
   "id": "730e4c75-81c7-4097-8d44-228e87f5b219",
   "metadata": {},
   "outputs": [
    {
     "name": "stdout",
     "output_type": "stream",
     "text": [
      "[[12. 12. 12.]\n",
      " [30. 30. 30.]\n",
      " [48. 48. 48.]]\n",
      "\n",
      "[[1.62754791e+05 1.62754791e+05 1.62754791e+05]\n",
      " [1.06864746e+13 1.06864746e+13 1.06864746e+13]\n",
      " [7.01673591e+20 7.01673591e+20 7.01673591e+20]]\n",
      "\n",
      "162754.79141900392\n",
      "\n",
      "[1.62754791e+05 1.06864746e+13 7.01673591e+20]\n",
      "\n",
      "[162754.791419 162754.791419 162754.791419]\n",
      "\n",
      "0\n",
      "\n",
      "2.1050208056887135e+21\n",
      "\n",
      "2.338912006320793e+20\n",
      "\n",
      "10686474581524.463\n",
      "\n"
     ]
    }
   ],
   "source": [
    "#matrix calculations: \n",
    "\n",
    "print (matmul)\n",
    "print ()\n",
    "\n",
    "#exponent:\n",
    "\n",
    "exponent = np.exp(matmul)\n",
    "\n",
    "print (exponent)\n",
    "print()\n",
    "\n",
    "#minimum value within exponent:\n",
    "\n",
    "minimum = np.min(exponent)\n",
    "\n",
    "print(minimum)\n",
    "print()\n",
    "\n",
    "#minimum value by row\n",
    "\n",
    "minrow = exponent.min(axis=1)\n",
    "\n",
    "print (minrow)\n",
    "print()\n",
    "\n",
    "#so first value is minimum value row 1, second row 2, third row 3\n",
    "\n",
    "mincol = exponent.min(axis=0)\n",
    "\n",
    "print (mincol)\n",
    "print()\n",
    "\n",
    "#so first value is minimum value column 1, second column 2, third column 3\n",
    "\n",
    "indexval = np.argmin(exponent)\n",
    "\n",
    "print(indexval)\n",
    "print()\n",
    "\n",
    "#Index value is 0 as it is the first element produced in this page.\n",
    "\n",
    "sum = np.sum(exponent)\n",
    "\n",
    "print (sum)\n",
    "print()\n",
    "\n",
    "#sum of all elements in matrix.\n",
    "\n",
    "mean = np.mean(exponent)\n",
    "\n",
    "print(mean)\n",
    "print()\n",
    "\n",
    "#mean elements\n",
    "\n",
    "median = np.median(exponent)\n",
    "\n",
    "print(median)\n",
    "print()\n",
    "\n",
    "#median elements"
   ]
  },
  {
   "cell_type": "code",
   "execution_count": 20,
   "id": "a0c15c1f-b163-46b4-a859-db763414c451",
   "metadata": {},
   "outputs": [
    {
     "name": "stdout",
     "output_type": "stream",
     "text": [
      "[[1 2 3]\n",
      " [4 5 6]\n",
      " [7 8 9]]\n"
     ]
    }
   ],
   "source": [
    "B = np.arange(1, 10).reshape(3, 3)\n",
    "print(B)\n",
    "\n",
    "#I may have used the wrong prepared matrix for the previous analysis! **TO ASK IF I CAN KEEP THIS**"
   ]
  },
  {
   "cell_type": "code",
   "execution_count": 22,
   "id": "41f41b77-7ff8-4723-8bd8-dc1200872c8b",
   "metadata": {},
   "outputs": [
    {
     "name": "stdout",
     "output_type": "stream",
     "text": [
      "[[ 1  2  3  4  5]\n",
      " [ 6  7  8  9 10]\n",
      " [11 12 13 14 15]]\n"
     ]
    }
   ],
   "source": [
    "print(A)"
   ]
  },
  {
   "cell_type": "code",
   "execution_count": 24,
   "id": "da252f8c-2bda-45ba-a7fb-a3c6bb479a91",
   "metadata": {},
   "outputs": [
    {
     "data": {
      "text/plain": [
       "array([ 6,  7,  8,  9, 10])"
      ]
     },
     "execution_count": 24,
     "metadata": {},
     "output_type": "execute_result"
    }
   ],
   "source": [
    "A[1]"
   ]
  },
  {
   "cell_type": "code",
   "execution_count": 26,
   "id": "b73ddb65-8447-44b2-b8e4-7a32a0dd63cc",
   "metadata": {},
   "outputs": [],
   "source": [
    "#We have only provided the 'central array' - as in 1-5 is ommitted as that is row 0, and 11-15 are ommitted as that is row 2."
   ]
  },
  {
   "cell_type": "code",
   "execution_count": 28,
   "id": "fadb6583-e47e-469b-83d0-6e1b8253c3f7",
   "metadata": {},
   "outputs": [
    {
     "data": {
      "text/plain": [
       "array([[ 1,  2,  3,  4,  5],\n",
       "       [ 6,  7,  8,  9, 10],\n",
       "       [11, 12, 13, 14, 15]])"
      ]
     },
     "execution_count": 28,
     "metadata": {},
     "output_type": "execute_result"
    }
   ],
   "source": [
    "A"
   ]
  },
  {
   "cell_type": "code",
   "execution_count": 30,
   "id": "a797d122-1ef0-4e91-93a1-1a1a655a709d",
   "metadata": {},
   "outputs": [
    {
     "name": "stdout",
     "output_type": "stream",
     "text": [
      "[1 2 3 4 5]\n",
      "[ 6  7  8  9 10]\n",
      "[11 12 13 14 15]\n"
     ]
    }
   ],
   "source": [
    "for i in A:\n",
    "    print(i)"
   ]
  },
  {
   "cell_type": "code",
   "execution_count": 32,
   "id": "91645cd2-abea-41d9-a011-e70d68f6551b",
   "metadata": {},
   "outputs": [
    {
     "name": "stdout",
     "output_type": "stream",
     "text": [
      "1\n",
      "2\n",
      "3\n",
      "4\n",
      "5\n",
      "6\n",
      "7\n",
      "8\n",
      "9\n",
      "10\n",
      "11\n",
      "12\n",
      "13\n",
      "14\n",
      "15\n"
     ]
    }
   ],
   "source": [
    "for element in np.nditer(A):\n",
    "    print(element)"
   ]
  },
  {
   "cell_type": "code",
   "execution_count": 34,
   "id": "a8414d0a-01c4-4c78-856b-d41a704f979b",
   "metadata": {},
   "outputs": [],
   "source": [
    "#using nditer to iterate an array."
   ]
  },
  {
   "cell_type": "code",
   "execution_count": 36,
   "id": "ea8018cf-5d51-4a8a-911b-e9fc30122922",
   "metadata": {},
   "outputs": [
    {
     "name": "stdout",
     "output_type": "stream",
     "text": [
      "[ 0  1  2  3  4  5  6  7  8  9 10 11 12 13 14 15 16 17 18 19 20 21 22 23\n",
      " 24 25 26 27 28 29]\n",
      "\n",
      "[[[ 0  1  2  3  4]\n",
      "  [ 5  6  7  8  9]\n",
      "  [10 11 12 13 14]]\n",
      "\n",
      " [[15 16 17 18 19]\n",
      "  [20 21 22 23 24]\n",
      "  [25 26 27 28 29]]]\n"
     ]
    }
   ],
   "source": [
    "a = np.arange(30)\n",
    "b = a.reshape((2, 3, -1))\n",
    "print(a)\n",
    "print()\n",
    "\n",
    "print(b)"
   ]
  },
  {
   "cell_type": "code",
   "execution_count": 38,
   "id": "2130a9d1-6346-46f3-86ae-2589ecfd1ac4",
   "metadata": {},
   "outputs": [],
   "source": [
    "#this code creates a range from 0-29. The reshape command defines the shape as 2, 3, -1. \n",
    "#2 sets the array to have two columns, 3 sets the array to have 3 rows, \n",
    "#-1 sets the final dimension according to the total number of elements and the other dimensions.\n",
    "#So: 30/2*3 = 5 "
   ]
  },
  {
   "cell_type": "code",
   "execution_count": 40,
   "id": "525aa288-2014-42d4-bccb-2c2189c16569",
   "metadata": {},
   "outputs": [
    {
     "name": "stdout",
     "output_type": "stream",
     "text": [
      "[[2 3]\n",
      " [4 5]]\n"
     ]
    }
   ],
   "source": [
    "m1 = np.array([[1, 2], [3, 4]])\n",
    "m2 = np.array([1, 1])\n",
    "print(m1 + m2)"
   ]
  },
  {
   "cell_type": "code",
   "execution_count": 42,
   "id": "db3ae151-40bb-4b84-ae6a-26e7223127fc",
   "metadata": {},
   "outputs": [
    {
     "name": "stdout",
     "output_type": "stream",
     "text": [
      "[2 3 4]\n"
     ]
    }
   ],
   "source": [
    "v1 = np.array([1, 2, 3])\n",
    "print(v1 + 1)"
   ]
  },
  {
   "cell_type": "code",
   "execution_count": 44,
   "id": "3781873c-a299-4b94-8264-393537f5ebf0",
   "metadata": {
    "scrolled": true
   },
   "outputs": [
    {
     "name": "stdout",
     "output_type": "stream",
     "text": [
      "[[1 2]\n",
      " [3 4]]\n",
      "[2 2]\n"
     ]
    }
   ],
   "source": [
    "A = np.arange(1, 5).reshape(2,2)\n",
    "print(A)\n",
    "\n",
    "b = np.array([2, 2])\n",
    "print(b)"
   ]
  },
  {
   "cell_type": "code",
   "execution_count": 46,
   "id": "a5bff9ba-b0de-4a28-914f-5e7ae00c4335",
   "metadata": {},
   "outputs": [],
   "source": [
    "#defined the function, including verifications for type errors and value errors that return information on function requirements. \n",
    "\n",
    "def add_mult_matrices(matrice1, matrice2, operation):\n",
    "    if not isinstance(matrice1, np.ndarray) or not isinstance(matrice2, np.ndarray):\n",
    "        raise TypeError(\"Inputs require 'numpy.ndarray' type\")\n",
    "    if operation not in ['add', 'multiply']:\n",
    "        raise ValueError(\"Operation requires 'add' or 'multiply'\")\n",
    "    if operation == 'add':\n",
    "        if matrice1.shape != matrice2.shape:\n",
    "            raise ValueError(\"'add' requires matrices to have the same dimensions\")\n",
    "        return np.add(matrice1, matrice2)\n",
    "    elif operation == 'multiply':\n",
    "        if matrice1.shape[1] != matrice2.shape[0]:\n",
    "            raise ValueError(\"'multiply' requires matrice1 columns == matrice2 rows\")\n",
    "        return np.dot(matrice1, matrice2)"
   ]
  },
  {
   "cell_type": "code",
   "execution_count": 58,
   "id": "0e1854c8-92f9-4a60-96f3-ce02062a0fb0",
   "metadata": {},
   "outputs": [],
   "source": [
    "#Basic indexing creates a view, How can you check if v1 and v2 is a view or copy? \n",
    "\n",
    "#You can check if v1 and v2 are views or copies by using the 'base' command as demonstrated in line 50. \n",
    "#In this case, v1 returns a 'None' response, meaning it is a copy. \n",
    "#v2 returns the original array, meaning it is a view.\n",
    "\n",
    "#If you change the last element in v2 to 123, will the last element in v1 be changed? Why?\n",
    "\n",
    "#This is answered in line 52, I believe?"
   ]
  },
  {
   "cell_type": "code",
   "execution_count": 60,
   "id": "b60356e0-ca35-4bf0-a847-2b4a1c1e8657",
   "metadata": {},
   "outputs": [
    {
     "name": "stdout",
     "output_type": "stream",
     "text": [
      "[0 1 2 3]\n",
      "[2 3]\n"
     ]
    }
   ],
   "source": [
    "v1 = np.arange(4)\n",
    "v2 = v1[-2:]\n",
    "print(v1)\n",
    "print(v2)"
   ]
  },
  {
   "cell_type": "code",
   "execution_count": 50,
   "id": "31f1722d-2724-4f7f-a53c-b122b7f51434",
   "metadata": {},
   "outputs": [
    {
     "name": "stdout",
     "output_type": "stream",
     "text": [
      "None\n",
      "[0 1 2 3]\n"
     ]
    }
   ],
   "source": [
    "# The base attribute of a view returns the original array while it returns None for a copy.\n",
    "print(v1.base)\n",
    "print(v2.base)"
   ]
  },
  {
   "cell_type": "code",
   "execution_count": 52,
   "id": "25ede85a-2196-4a51-a227-50bed20fbb3d",
   "metadata": {},
   "outputs": [
    {
     "name": "stdout",
     "output_type": "stream",
     "text": [
      "[  0   1   2 123]\n",
      "[  2 123]\n"
     ]
    }
   ],
   "source": [
    "# The last element in v1 will be changed aswell since v2 is a view, meaning they share the same data buffer.\n",
    "v2[-1] = 123\n",
    "print(v1)\n",
    "print(v2)"
   ]
  },
  {
   "cell_type": "code",
   "execution_count": null,
   "id": "3df3d5c9-35e5-4776-8c8c-19a451cded0d",
   "metadata": {},
   "outputs": [],
   "source": []
  }
 ],
 "metadata": {
  "kernelspec": {
   "display_name": "Python 3 (ipykernel)",
   "language": "python",
   "name": "python3"
  },
  "language_info": {
   "codemirror_mode": {
    "name": "ipython",
    "version": 3
   },
   "file_extension": ".py",
   "mimetype": "text/x-python",
   "name": "python",
   "nbconvert_exporter": "python",
   "pygments_lexer": "ipython3",
   "version": "3.12.4"
  }
 },
 "nbformat": 4,
 "nbformat_minor": 5
}
